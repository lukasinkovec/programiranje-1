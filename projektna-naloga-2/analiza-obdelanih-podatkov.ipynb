{
 "cells": [
  {
   "cell_type": "markdown",
   "metadata": {},
   "source": [
    "# Analiza obdelanih podatkov"
   ]
  },
  {
   "cell_type": "code",
   "execution_count": 1,
   "metadata": {
    "collapsed": true
   },
   "outputs": [],
   "source": [
    "import pandas as pd\n",
    "nba = pd.read_csv('obdelani-podatki/vsi-nba-igralci.csv', index_col='ime')\n",
    "pd.options.display.max_rows = 5\n",
    "%matplotlib inline"
   ]
  },
  {
   "cell_type": "markdown",
   "metadata": {},
   "source": [
    "## Prva naloga\n",
    "\n",
    "Prvo vprašanje, ki sem si ga zastavil, je bilo: kateri od trenutno igralno aktivnih košarkarjev lige NBA, so najboljši glede na svojo karierno statistiko, po posameznem igralnem položaju?\n",
    "Da bi na to odgovoril, moram v moji tabeli najprej definirati nov stolpec imenovan kariera, ki bo predstavljal nekakšno povprečje vseh kariernih statistih posameznega igralca, narejen pa bo na osnovi algoritma, ki sem si ga izmislil sam."
   ]
  },
  {
   "cell_type": "code",
   "execution_count": 6,
   "metadata": {
    "collapsed": true
   },
   "outputs": [],
   "source": [
    "nba['kariera'] = (nba.tocke + (2 * nba.skoki) + (3 * nba.podaje)) / nba.minute"
   ]
  },
  {
   "cell_type": "markdown",
   "metadata": {},
   "source": [
    "Sedaj si bom definiral pet novih tabel (katere bodo vsebovale le ime, igralni položaj in pa karierno statistiko posameznega igralca), eno za vsakega izmed petih igralnih položajev, kjer bo vsaka tabela predstavljala vrednost, po kateri bodo igralci razporejeni - to pa je seveda njihov igralni položaj."
   ]
  },
  {
   "cell_type": "code",
   "execution_count": 7,
   "metadata": {},
   "outputs": [],
   "source": [
    "nba_po_polozajih = nba[['polozaj', 'kariera']]\n",
    "nba_pg = nba_po_polozajih[nba_po_polozajih.polozaj == 'Point guard']\n",
    "nba_sg = nba_po_polozajih[nba_po_polozajih.polozaj == 'Shooting guard']\n",
    "nba_sf = nba_po_polozajih[nba_po_polozajih.polozaj == 'Small forward']\n",
    "nba_pf = nba_po_polozajih[nba_po_polozajih.polozaj == 'Power forward']\n",
    "nba_c = nba_po_polozajih[nba_po_polozajih.polozaj == 'Center']"
   ]
  },
  {
   "cell_type": "markdown",
   "metadata": {},
   "source": [
    "Prostane mi le še, da vsako izmed petih tabel uredim padajoče po karierni statistiki igralca in nato tabelo (ki bo prikazala le prvih pet igralcev) tudi prikažem."
   ]
  },
  {
   "cell_type": "code",
   "execution_count": 8,
   "metadata": {},
   "outputs": [
    {
     "data": {
      "text/html": [
       "<div>\n",
       "<style>\n",
       "    .dataframe thead tr:only-child th {\n",
       "        text-align: right;\n",
       "    }\n",
       "\n",
       "    .dataframe thead th {\n",
       "        text-align: left;\n",
       "    }\n",
       "\n",
       "    .dataframe tbody tr th {\n",
       "        vertical-align: top;\n",
       "    }\n",
       "</style>\n",
       "<table border=\"1\" class=\"dataframe\">\n",
       "  <thead>\n",
       "    <tr style=\"text-align: right;\">\n",
       "      <th></th>\n",
       "      <th>polozaj</th>\n",
       "      <th>kariera</th>\n",
       "    </tr>\n",
       "    <tr>\n",
       "      <th>ime</th>\n",
       "      <th></th>\n",
       "      <th></th>\n",
       "    </tr>\n",
       "  </thead>\n",
       "  <tbody>\n",
       "    <tr>\n",
       "      <th>Russell Westbrook</th>\n",
       "      <td>Point guard</td>\n",
       "      <td>1.784884</td>\n",
       "    </tr>\n",
       "    <tr>\n",
       "      <th>Ben Simmons</th>\n",
       "      <td>Point guard</td>\n",
       "      <td>1.720238</td>\n",
       "    </tr>\n",
       "    <tr>\n",
       "      <th>Chris Paul</th>\n",
       "      <td>Point guard</td>\n",
       "      <td>1.610795</td>\n",
       "    </tr>\n",
       "    <tr>\n",
       "      <th>Luka Doncic</th>\n",
       "      <td>Point guard</td>\n",
       "      <td>1.543750</td>\n",
       "    </tr>\n",
       "    <tr>\n",
       "      <th>John Wall</th>\n",
       "      <td>Point guard</td>\n",
       "      <td>1.537604</td>\n",
       "    </tr>\n",
       "  </tbody>\n",
       "</table>\n",
       "</div>"
      ],
      "text/plain": [
       "                       polozaj   kariera\n",
       "ime                                     \n",
       "Russell Westbrook  Point guard  1.784884\n",
       "Ben Simmons        Point guard  1.720238\n",
       "Chris Paul         Point guard  1.610795\n",
       "Luka Doncic        Point guard  1.543750\n",
       "John Wall          Point guard  1.537604"
      ]
     },
     "execution_count": 8,
     "metadata": {},
     "output_type": "execute_result"
    }
   ],
   "source": [
    "nba_pg.sort_values('kariera', ascending=False).head(5)"
   ]
  },
  {
   "cell_type": "code",
   "execution_count": 9,
   "metadata": {},
   "outputs": [
    {
     "data": {
      "text/html": [
       "<div>\n",
       "<style>\n",
       "    .dataframe thead tr:only-child th {\n",
       "        text-align: right;\n",
       "    }\n",
       "\n",
       "    .dataframe thead th {\n",
       "        text-align: left;\n",
       "    }\n",
       "\n",
       "    .dataframe tbody tr th {\n",
       "        vertical-align: top;\n",
       "    }\n",
       "</style>\n",
       "<table border=\"1\" class=\"dataframe\">\n",
       "  <thead>\n",
       "    <tr style=\"text-align: right;\">\n",
       "      <th></th>\n",
       "      <th>polozaj</th>\n",
       "      <th>kariera</th>\n",
       "    </tr>\n",
       "    <tr>\n",
       "      <th>ime</th>\n",
       "      <th></th>\n",
       "      <th></th>\n",
       "    </tr>\n",
       "  </thead>\n",
       "  <tbody>\n",
       "    <tr>\n",
       "      <th>Rawle Alkins</th>\n",
       "      <td>Shooting guard</td>\n",
       "      <td>3.750000</td>\n",
       "    </tr>\n",
       "    <tr>\n",
       "      <th>Troy Caupain</th>\n",
       "      <td>Shooting guard</td>\n",
       "      <td>2.000000</td>\n",
       "    </tr>\n",
       "    <tr>\n",
       "      <th>P.J. Dozier</th>\n",
       "      <td>Shooting guard</td>\n",
       "      <td>1.409091</td>\n",
       "    </tr>\n",
       "    <tr>\n",
       "      <th>Dwyane Wade</th>\n",
       "      <td>Shooting guard</td>\n",
       "      <td>1.406433</td>\n",
       "    </tr>\n",
       "    <tr>\n",
       "      <th>Jordan Loyd</th>\n",
       "      <td>Shooting guard</td>\n",
       "      <td>1.333333</td>\n",
       "    </tr>\n",
       "  </tbody>\n",
       "</table>\n",
       "</div>"
      ],
      "text/plain": [
       "                     polozaj   kariera\n",
       "ime                                   \n",
       "Rawle Alkins  Shooting guard  3.750000\n",
       "Troy Caupain  Shooting guard  2.000000\n",
       "P.J. Dozier   Shooting guard  1.409091\n",
       "Dwyane Wade   Shooting guard  1.406433\n",
       "Jordan Loyd   Shooting guard  1.333333"
      ]
     },
     "execution_count": 9,
     "metadata": {},
     "output_type": "execute_result"
    }
   ],
   "source": [
    "nba_sg.sort_values('kariera', ascending=False).head(5)"
   ]
  },
  {
   "cell_type": "code",
   "execution_count": 10,
   "metadata": {},
   "outputs": [
    {
     "data": {
      "text/html": [
       "<div>\n",
       "<style>\n",
       "    .dataframe thead tr:only-child th {\n",
       "        text-align: right;\n",
       "    }\n",
       "\n",
       "    .dataframe thead th {\n",
       "        text-align: left;\n",
       "    }\n",
       "\n",
       "    .dataframe tbody tr th {\n",
       "        vertical-align: top;\n",
       "    }\n",
       "</style>\n",
       "<table border=\"1\" class=\"dataframe\">\n",
       "  <thead>\n",
       "    <tr style=\"text-align: right;\">\n",
       "      <th></th>\n",
       "      <th>polozaj</th>\n",
       "      <th>kariera</th>\n",
       "    </tr>\n",
       "    <tr>\n",
       "      <th>ime</th>\n",
       "      <th></th>\n",
       "      <th></th>\n",
       "    </tr>\n",
       "  </thead>\n",
       "  <tbody>\n",
       "    <tr>\n",
       "      <th>LeBron James</th>\n",
       "      <td>Small forward</td>\n",
       "      <td>1.647668</td>\n",
       "    </tr>\n",
       "    <tr>\n",
       "      <th>James Harden</th>\n",
       "      <td>Small forward</td>\n",
       "      <td>1.547059</td>\n",
       "    </tr>\n",
       "    <tr>\n",
       "      <th>Kevin Durant</th>\n",
       "      <td>Small forward</td>\n",
       "      <td>1.443243</td>\n",
       "    </tr>\n",
       "    <tr>\n",
       "      <th>Carmelo Anthony</th>\n",
       "      <td>Small forward</td>\n",
       "      <td>1.284916</td>\n",
       "    </tr>\n",
       "    <tr>\n",
       "      <th>Paul George</th>\n",
       "      <td>Small forward</td>\n",
       "      <td>1.244048</td>\n",
       "    </tr>\n",
       "  </tbody>\n",
       "</table>\n",
       "</div>"
      ],
      "text/plain": [
       "                       polozaj   kariera\n",
       "ime                                     \n",
       "LeBron James     Small forward  1.647668\n",
       "James Harden     Small forward  1.547059\n",
       "Kevin Durant     Small forward  1.443243\n",
       "Carmelo Anthony  Small forward  1.284916\n",
       "Paul George      Small forward  1.244048"
      ]
     },
     "execution_count": 10,
     "metadata": {},
     "output_type": "execute_result"
    }
   ],
   "source": [
    "nba_sf.sort_values('kariera', ascending=False).head(5)"
   ]
  },
  {
   "cell_type": "code",
   "execution_count": 11,
   "metadata": {},
   "outputs": [
    {
     "data": {
      "text/html": [
       "<div>\n",
       "<style>\n",
       "    .dataframe thead tr:only-child th {\n",
       "        text-align: right;\n",
       "    }\n",
       "\n",
       "    .dataframe thead th {\n",
       "        text-align: left;\n",
       "    }\n",
       "\n",
       "    .dataframe tbody tr th {\n",
       "        vertical-align: top;\n",
       "    }\n",
       "</style>\n",
       "<table border=\"1\" class=\"dataframe\">\n",
       "  <thead>\n",
       "    <tr style=\"text-align: right;\">\n",
       "      <th></th>\n",
       "      <th>polozaj</th>\n",
       "      <th>kariera</th>\n",
       "    </tr>\n",
       "    <tr>\n",
       "      <th>ime</th>\n",
       "      <th></th>\n",
       "      <th></th>\n",
       "    </tr>\n",
       "  </thead>\n",
       "  <tbody>\n",
       "    <tr>\n",
       "      <th>Blake Griffin</th>\n",
       "      <td>Power forward</td>\n",
       "      <td>1.515670</td>\n",
       "    </tr>\n",
       "    <tr>\n",
       "      <th>Kevin Love</th>\n",
       "      <td>Power forward</td>\n",
       "      <td>1.484472</td>\n",
       "    </tr>\n",
       "    <tr>\n",
       "      <th>Julius Randle</th>\n",
       "      <td>Power forward</td>\n",
       "      <td>1.448399</td>\n",
       "    </tr>\n",
       "    <tr>\n",
       "      <th>Giannis Antetokounmpo</th>\n",
       "      <td>Power forward</td>\n",
       "      <td>1.409786</td>\n",
       "    </tr>\n",
       "    <tr>\n",
       "      <th>Draymond Green</th>\n",
       "      <td>Power forward</td>\n",
       "      <td>1.340502</td>\n",
       "    </tr>\n",
       "  </tbody>\n",
       "</table>\n",
       "</div>"
      ],
      "text/plain": [
       "                             polozaj   kariera\n",
       "ime                                           \n",
       "Blake Griffin          Power forward  1.515670\n",
       "Kevin Love             Power forward  1.484472\n",
       "Julius Randle          Power forward  1.448399\n",
       "Giannis Antetokounmpo  Power forward  1.409786\n",
       "Draymond Green         Power forward  1.340502"
      ]
     },
     "execution_count": 11,
     "metadata": {},
     "output_type": "execute_result"
    }
   ],
   "source": [
    "nba_pf.sort_values('kariera', ascending=False).head(5)"
   ]
  },
  {
   "cell_type": "code",
   "execution_count": 12,
   "metadata": {},
   "outputs": [
    {
     "data": {
      "text/html": [
       "<div>\n",
       "<style>\n",
       "    .dataframe thead tr:only-child th {\n",
       "        text-align: right;\n",
       "    }\n",
       "\n",
       "    .dataframe thead th {\n",
       "        text-align: left;\n",
       "    }\n",
       "\n",
       "    .dataframe tbody tr th {\n",
       "        vertical-align: top;\n",
       "    }\n",
       "</style>\n",
       "<table border=\"1\" class=\"dataframe\">\n",
       "  <thead>\n",
       "    <tr style=\"text-align: right;\">\n",
       "      <th></th>\n",
       "      <th>polozaj</th>\n",
       "      <th>kariera</th>\n",
       "    </tr>\n",
       "    <tr>\n",
       "      <th>ime</th>\n",
       "      <th></th>\n",
       "      <th></th>\n",
       "    </tr>\n",
       "  </thead>\n",
       "  <tbody>\n",
       "    <tr>\n",
       "      <th>Joel Embiid</th>\n",
       "      <td>Center</td>\n",
       "      <td>1.821192</td>\n",
       "    </tr>\n",
       "    <tr>\n",
       "      <th>Nikola Jokic</th>\n",
       "      <td>Center</td>\n",
       "      <td>1.767025</td>\n",
       "    </tr>\n",
       "    <tr>\n",
       "      <th>DeMarcus Cousins</th>\n",
       "      <td>Center</td>\n",
       "      <td>1.643963</td>\n",
       "    </tr>\n",
       "    <tr>\n",
       "      <th>Boban Marjanovic</th>\n",
       "      <td>Center</td>\n",
       "      <td>1.612903</td>\n",
       "    </tr>\n",
       "    <tr>\n",
       "      <th>Karl-Anthony Towns</th>\n",
       "      <td>Center</td>\n",
       "      <td>1.526012</td>\n",
       "    </tr>\n",
       "  </tbody>\n",
       "</table>\n",
       "</div>"
      ],
      "text/plain": [
       "                   polozaj   kariera\n",
       "ime                                 \n",
       "Joel Embiid         Center  1.821192\n",
       "Nikola Jokic        Center  1.767025\n",
       "DeMarcus Cousins    Center  1.643963\n",
       "Boban Marjanovic    Center  1.612903\n",
       "Karl-Anthony Towns  Center  1.526012"
      ]
     },
     "execution_count": 12,
     "metadata": {},
     "output_type": "execute_result"
    }
   ],
   "source": [
    "nba_c.sort_values('kariera', ascending=False).head(5)"
   ]
  },
  {
   "cell_type": "markdown",
   "metadata": {},
   "source": [
    "Rezultati so pokazali, da so najboljši NBA igralci po posameznem igralnem položaju, Russell Westbrook, Rawle Alkins, LeBron James, Blake Griffin in Joel Embiid. Ta statistika je zelo zanimiva, saj je med prikazanimi igralci veliko takih, ki na tekmah ne dobivajo veliko priložnost, bi pa jo očitno morali."
   ]
  },
  {
   "cell_type": "markdown",
   "metadata": {},
   "source": [
    "## Druga naloga\n",
    "\n",
    "Drugo vprašanje, ki sem si ga zastavil, je bilo: kakšna je povezava med višino in težo nekega igralca ter njegovo karierno statistiko? Oziroma povedano drugače: kakšni sta idealni višina in teža, ki ju imajo najboljši NBA igralci (glede na karierno statistiko)? Da bi na to odgovoril, moram v mojo tabelo najprej dodati še dva stolpca, ki bosta prikazovala zaokrožene višine in teže posameznih igralcev (z_visina, z_teza), glede na katere bom na koncu prikazal dva grafa."
   ]
  },
  {
   "cell_type": "code",
   "execution_count": 13,
   "metadata": {
    "collapsed": true
   },
   "outputs": [],
   "source": [
    "nba['z_visine'] = (10 * ((200 * nba.visina + 5) // 10)) / 200\n",
    "nba['z_teze'] = (10 * ((2 * nba.teza + 5) // 10)) / 2"
   ]
  },
  {
   "cell_type": "markdown",
   "metadata": {},
   "source": [
    "Sedaj bom definiral novo tabelo, ki bo prikazovala le ime, karierno statistiko ter zaokroženi višino in težo posameznega igralca. Nato bom iz te tabele ustvaril še dve novi, ki bosta prikazovali povprečno karierno statistiko igralcev, glede na določeno vrednost posamezne zaokrožene višine  oziroma teže - ti dve vrednosti bosta torej tisti, po katerih bom mojo tabelo uredil."
   ]
  },
  {
   "cell_type": "code",
   "execution_count": 14,
   "metadata": {
    "collapsed": true
   },
   "outputs": [],
   "source": [
    "nov_nba = nba[['kariera', 'z_visine', 'z_teze']]\n",
    "kariere_glede_na_visino = nov_nba.groupby('z_visine').mean()\n",
    "kariere_glede_na_tezo = nov_nba.groupby('z_teze').mean()"
   ]
  },
  {
   "cell_type": "markdown",
   "metadata": {},
   "source": [
    "Prostane mi le še, da oba rezultat tudi prikažem z grafom, nato pa iz njiju razberem podatke in naredim sklep."
   ]
  },
  {
   "cell_type": "code",
   "execution_count": 15,
   "metadata": {},
   "outputs": [
    {
     "data": {
      "text/plain": [
       "<matplotlib.axes._subplots.AxesSubplot at 0x97e330>"
      ]
     },
     "execution_count": 15,
     "metadata": {},
     "output_type": "execute_result"
    },
    {
     "data": {
      "image/png": "[encoded data removed]",
      "text/plain": [
       "<matplotlib.figure.Figure at 0x7015cd0>"
      ]
     },
     "metadata": {},
     "output_type": "display_data"
    }
   ],
   "source": [
    "kariere_glede_na_visino['kariera'].plot()"
   ]
  },
  {
   "cell_type": "code",
   "execution_count": 16,
   "metadata": {},
   "outputs": [
    {
     "data": {
      "text/plain": [
       "<matplotlib.axes._subplots.AxesSubplot at 0xa31d70>"
      ]
     },
     "execution_count": 16,
     "metadata": {},
     "output_type": "execute_result"
    },
    {
     "data": {
      "image/png": "[encoded data removed]",
      "text/plain": [
       "<matplotlib.figure.Figure at 0xa15790>"
      ]
     },
     "metadata": {},
     "output_type": "display_data"
    }
   ],
   "source": [
    "kariere_glede_na_tezo['kariera'].plot()"
   ]
  },
  {
   "cell_type": "markdown",
   "metadata": {},
   "source": [
    "Rezultati so šokantni, saj so pokazali, da so (v nasprotju s splošnim prepričanjem) tisti NBA igralci, ki naj bi imeli idelani višino in težo (tj. 2.00 m in 100 kg), glede na karierno statistiko, v povprečju najslabši. Velika možnost je namreč, da če si igralec lige NBA in sta tvoji višina in teža preveliki (bolj) oziroma premajhni (manj), boš glede na svojo karierno statistiko zelo dober - in s tem eden od najboljših igralcev lige NBA."
   ]
  },
  {
   "cell_type": "markdown",
   "metadata": {},
   "source": [
    "## Tretja naloga\n",
    "\n",
    "Tretje in zadnje vprašanje, ki sem si ga zastavil, pa je bilo: ali obstaja povezava med letnico rojstva nekega igralca in pa državo, iz katere ta isti igralec prihaja ali pa njegovim igralnim položajem? Oziroma povedano drugače: ali se iz države, iz katere nek igralec prihaja, da sklepati na njegovo letnico rojstva in obratno? In pa ali so obstajala različna obdobja, ko so se rojevali večinoma igralci s točno določenim igralnim položajem, ali ne? Da bi na to odgovoril, moram najprej mojo tabelo zožit na dve novi tabeli, ki bosta prikazovali le ime, letnico rojstva in pa državo oziroma igralni položaj posameznega igralca. Nato pa moram ti dve tabeli urediti in zaokrožit glede na vrednost, ki me zanima - to pa sta seveda država, iz katere posamezen igralec prihaja in pa njegov igralni položaj - dobil bom poprečne vrednosti letnic (zaokrožene na celo število, kar bom meddrugim pravtako storil) glede na moja državo oziroma vsak igralni položaj."
   ]
  },
  {
   "cell_type": "code",
   "execution_count": 18,
   "metadata": {
    "collapsed": true
   },
   "outputs": [],
   "source": [
    "drzave_po_letih = nba[['drzava', 'leto']].groupby('drzava').mean()\n",
    "drzave_po_letih['leto'] = (drzave_po_letih.leto // 1) + round(drzave_po_letih.leto % 1)\n",
    "polozaj_po_letih = nba[['polozaj', 'leto']].groupby('polozaj').mean()\n",
    "polozaj_po_letih['leto'] = (polozaj_po_letih.leto // 1) + round(polozaj_po_letih.leto % 1)"
   ]
  },
  {
   "cell_type": "markdown",
   "metadata": {},
   "source": [
    "Preostane mi le še, da ti dve tabeli tudi prikažem in iz njiju razberem (oziroma izločim) podatke, ki me zanimajo."
   ]
  },
  {
   "cell_type": "code",
   "execution_count": 19,
   "metadata": {},
   "outputs": [
    {
     "data": {
      "text/html": [
       "<div>\n",
       "<style>\n",
       "    .dataframe thead tr:only-child th {\n",
       "        text-align: right;\n",
       "    }\n",
       "\n",
       "    .dataframe thead th {\n",
       "        text-align: left;\n",
       "    }\n",
       "\n",
       "    .dataframe tbody tr th {\n",
       "        vertical-align: top;\n",
       "    }\n",
       "</style>\n",
       "<table border=\"1\" class=\"dataframe\">\n",
       "  <thead>\n",
       "    <tr style=\"text-align: right;\">\n",
       "      <th></th>\n",
       "      <th>leto</th>\n",
       "    </tr>\n",
       "    <tr>\n",
       "      <th>drzava</th>\n",
       "      <th></th>\n",
       "    </tr>\n",
       "  </thead>\n",
       "  <tbody>\n",
       "    <tr>\n",
       "      <th>Australia</th>\n",
       "      <td>1991.0</td>\n",
       "    </tr>\n",
       "    <tr>\n",
       "      <th>Austria</th>\n",
       "      <td>1995.0</td>\n",
       "    </tr>\n",
       "    <tr>\n",
       "      <th>...</th>\n",
       "      <td>...</td>\n",
       "    </tr>\n",
       "    <tr>\n",
       "      <th>United Kingdom</th>\n",
       "      <td>1991.0</td>\n",
       "    </tr>\n",
       "    <tr>\n",
       "      <th>United States</th>\n",
       "      <td>1992.0</td>\n",
       "    </tr>\n",
       "  </tbody>\n",
       "</table>\n",
       "<p>43 rows × 1 columns</p>\n",
       "</div>"
      ],
      "text/plain": [
       "                  leto\n",
       "drzava                \n",
       "Australia       1991.0\n",
       "Austria         1995.0\n",
       "...                ...\n",
       "United Kingdom  1991.0\n",
       "United States   1992.0\n",
       "\n",
       "[43 rows x 1 columns]"
      ]
     },
     "execution_count": 19,
     "metadata": {},
     "output_type": "execute_result"
    }
   ],
   "source": [
    "drzave_po_letih"
   ]
  },
  {
   "cell_type": "code",
   "execution_count": 20,
   "metadata": {},
   "outputs": [
    {
     "data": {
      "text/html": [
       "<div>\n",
       "<style>\n",
       "    .dataframe thead tr:only-child th {\n",
       "        text-align: right;\n",
       "    }\n",
       "\n",
       "    .dataframe thead th {\n",
       "        text-align: left;\n",
       "    }\n",
       "\n",
       "    .dataframe tbody tr th {\n",
       "        vertical-align: top;\n",
       "    }\n",
       "</style>\n",
       "<table border=\"1\" class=\"dataframe\">\n",
       "  <thead>\n",
       "    <tr style=\"text-align: right;\">\n",
       "      <th></th>\n",
       "      <th>leto</th>\n",
       "    </tr>\n",
       "    <tr>\n",
       "      <th>polozaj</th>\n",
       "      <th></th>\n",
       "    </tr>\n",
       "  </thead>\n",
       "  <tbody>\n",
       "    <tr>\n",
       "      <th>Center</th>\n",
       "      <td>1992.0</td>\n",
       "    </tr>\n",
       "    <tr>\n",
       "      <th>Point guard</th>\n",
       "      <td>1992.0</td>\n",
       "    </tr>\n",
       "    <tr>\n",
       "      <th>Power forward</th>\n",
       "      <td>1992.0</td>\n",
       "    </tr>\n",
       "    <tr>\n",
       "      <th>Shooting guard</th>\n",
       "      <td>1992.0</td>\n",
       "    </tr>\n",
       "    <tr>\n",
       "      <th>Small forward</th>\n",
       "      <td>1992.0</td>\n",
       "    </tr>\n",
       "  </tbody>\n",
       "</table>\n",
       "</div>"
      ],
      "text/plain": [
       "                  leto\n",
       "polozaj               \n",
       "Center          1992.0\n",
       "Point guard     1992.0\n",
       "Power forward   1992.0\n",
       "Shooting guard  1992.0\n",
       "Small forward   1992.0"
      ]
     },
     "execution_count": 20,
     "metadata": {},
     "output_type": "execute_result"
    }
   ],
   "source": [
    "polozaj_po_letih"
   ]
  },
  {
   "cell_type": "markdown",
   "metadata": {},
   "source": [
    "Rezultati so pokazali, da je moja druga hipoteza bila napačna, saj očitno ni obstajalo obdobje, ko naj bi se rojevali večinoma igralci s točno določenim igralnim položajem. Drugače pa je bilo z mojo prvo hipotezo, ki pa je bila pravilna, saj se iz letnice rojstva nekega NBA igralca očitno da sklepati na državo, iz katere ta isti igralec prihaja in obratno. Če si vzamem en primer, me npr. zanima iz katere države prihaja povprečen NBA igralec, rojen leta 1998 in pa katerega leta je rojen povprečen NBA igralec, ki prihaja iz Slovenije."
   ]
  },
  {
   "cell_type": "code",
   "execution_count": 21,
   "metadata": {},
   "outputs": [
    {
     "data": {
      "text/html": [
       "<div>\n",
       "<style>\n",
       "    .dataframe thead tr:only-child th {\n",
       "        text-align: right;\n",
       "    }\n",
       "\n",
       "    .dataframe thead th {\n",
       "        text-align: left;\n",
       "    }\n",
       "\n",
       "    .dataframe tbody tr th {\n",
       "        vertical-align: top;\n",
       "    }\n",
       "</style>\n",
       "<table border=\"1\" class=\"dataframe\">\n",
       "  <thead>\n",
       "    <tr style=\"text-align: right;\">\n",
       "      <th></th>\n",
       "      <th>leto</th>\n",
       "    </tr>\n",
       "    <tr>\n",
       "      <th>drzava</th>\n",
       "      <th></th>\n",
       "    </tr>\n",
       "  </thead>\n",
       "  <tbody>\n",
       "    <tr>\n",
       "      <th>Bahamas</th>\n",
       "      <td>1998.0</td>\n",
       "    </tr>\n",
       "    <tr>\n",
       "      <th>Nigeria</th>\n",
       "      <td>1998.0</td>\n",
       "    </tr>\n",
       "  </tbody>\n",
       "</table>\n",
       "</div>"
      ],
      "text/plain": [
       "           leto\n",
       "drzava         \n",
       "Bahamas  1998.0\n",
       "Nigeria  1998.0"
      ]
     },
     "execution_count": 21,
     "metadata": {},
     "output_type": "execute_result"
    }
   ],
   "source": [
    "drzave_po_letih[drzave_po_letih.leto == 1998.0]"
   ]
  },
  {
   "cell_type": "code",
   "execution_count": 22,
   "metadata": {},
   "outputs": [
    {
     "data": {
      "text/plain": [
       "leto    1992.0\n",
       "Name: Slovenia, dtype: float64"
      ]
     },
     "execution_count": 22,
     "metadata": {},
     "output_type": "execute_result"
    }
   ],
   "source": [
    "drzave_po_letih.loc[\"Slovenia\"]"
   ]
  },
  {
   "cell_type": "markdown",
   "metadata": {},
   "source": [
    "Ugotovil sem, da povprečen NBA igralec rojen leta 1998 prihaja ali iz Bahamov ali iz Nigerije. Povprečen NBA igralec, ki pa prihaja iz Slovenije, je rojen leta 1998."
   ]
  }
 ],
 "metadata": {
  "kernelspec": {
   "display_name": "Python 3",
   "language": "python",
   "name": "python3"
  },
  "language_info": {
   "codemirror_mode": {
    "name": "ipython",
    "version": 3
   },
   "file_extension": ".py",
   "mimetype": "text/x-python",
   "name": "python",
   "nbconvert_exporter": "python",
   "pygments_lexer": "ipython3",
   "version": "3.6.1"
  }
 },
 "nbformat": 4,
 "nbformat_minor": 2
}
